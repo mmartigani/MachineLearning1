{
  "nbformat": 4,
  "nbformat_minor": 0,
  "metadata": {
    "colab": {
      "provenance": [],
      "authorship_tag": "ABX9TyMo7IoVJFhnoAS9mI6ouzd/",
      "include_colab_link": true
    },
    "kernelspec": {
      "name": "python3",
      "display_name": "Python 3"
    },
    "language_info": {
      "name": "python"
    }
  },
  "cells": [
    {
      "cell_type": "markdown",
      "metadata": {
        "id": "view-in-github",
        "colab_type": "text"
      },
      "source": [
        "<a href=\"https://colab.research.google.com/github/mmartigani/MachineLearning1/blob/main/ML20.ipynb\" target=\"_parent\"><img src=\"https://colab.research.google.com/assets/colab-badge.svg\" alt=\"Open In Colab\"/></a>"
      ]
    },
    {
      "cell_type": "code",
      "execution_count": 2,
      "metadata": {
        "id": "UDPvUfCpq5FH"
      },
      "outputs": [],
      "source": [
        "#SVM\n",
        "import matplotlib.pyplot as plt\n",
        "from sklearn.svm import SVC\n",
        "import numpy as np"
      ]
    },
    {
      "cell_type": "code",
      "source": [
        "x_coord=[1,0.5,2,1.5,6,7,7.75,9]\n",
        "y_coord=[4,0.5,3,2.5,9,10,9.5,8.5]\n",
        "y=np.array([0,0,0,0,1,1,1,1])"
      ],
      "metadata": {
        "id": "P4Nl3_hLrXQd"
      },
      "execution_count": 3,
      "outputs": []
    },
    {
      "cell_type": "code",
      "source": [
        "plt.scatter(x_coord, y_coord)"
      ],
      "metadata": {
        "colab": {
          "base_uri": "https://localhost:8080/",
          "height": 448
        },
        "id": "nmtN2R-irXKS",
        "outputId": "1c039b1b-da83-4ef5-84b5-c6280d2c3598"
      },
      "execution_count": 4,
      "outputs": [
        {
          "output_type": "execute_result",
          "data": {
            "text/plain": [
              "<matplotlib.collections.PathCollection at 0x7ff1dda45540>"
            ]
          },
          "metadata": {},
          "execution_count": 4
        },
        {
          "output_type": "display_data",
          "data": {
            "text/plain": [
              "<Figure size 640x480 with 1 Axes>"
            ],
            "image/png": "[encoded data removed]"
          },
          "metadata": {}
        }
      ]
    },
    {
      "cell_type": "code",
      "source": [
        "X=np.vstack((x_coord, y_coord)).T\n",
        "X"
      ],
      "metadata": {
        "colab": {
          "base_uri": "https://localhost:8080/"
        },
        "id": "AUn2A4CNrXE_",
        "outputId": "221545eb-f4ae-432a-9b6c-35c7b72fa8e3"
      },
      "execution_count": 5,
      "outputs": [
        {
          "output_type": "execute_result",
          "data": {
            "text/plain": [
              "array([[ 1.  ,  4.  ],\n",
              "       [ 0.5 ,  0.5 ],\n",
              "       [ 2.  ,  3.  ],\n",
              "       [ 1.5 ,  2.5 ],\n",
              "       [ 6.  ,  9.  ],\n",
              "       [ 7.  , 10.  ],\n",
              "       [ 7.75,  9.5 ],\n",
              "       [ 9.  ,  8.5 ]])"
            ]
          },
          "metadata": {},
          "execution_count": 5
        }
      ]
    },
    {
      "cell_type": "code",
      "source": [
        "classifier = SVC(kernel='linear')"
      ],
      "metadata": {
        "id": "hbdPbOYBrW6q"
      },
      "execution_count": 6,
      "outputs": []
    },
    {
      "cell_type": "code",
      "source": [
        "results=classifier.fit(X,y)"
      ],
      "metadata": {
        "id": "cMBRUYsysQ45"
      },
      "execution_count": 7,
      "outputs": []
    },
    {
      "cell_type": "code",
      "source": [
        "results.coef_"
      ],
      "metadata": {
        "colab": {
          "base_uri": "https://localhost:8080/"
        },
        "id": "PyvhWEc3sQ2F",
        "outputId": "5b495585-d5d1-40ec-eaac-69500501c745"
      },
      "execution_count": 8,
      "outputs": [
        {
          "output_type": "execute_result",
          "data": {
            "text/plain": [
              "array([[0.19964497, 0.20023669]])"
            ]
          },
          "metadata": {},
          "execution_count": 8
        }
      ]
    },
    {
      "cell_type": "code",
      "source": [
        "b= - results.coef_[0][0]/results.coef_[0][1]\n",
        "b"
      ],
      "metadata": {
        "colab": {
          "base_uri": "https://localhost:8080/"
        },
        "id": "a7UC2ivFsQza",
        "outputId": "4491b8aa-03d2-4ece-c52d-f8ff04530c11"
      },
      "execution_count": 9,
      "outputs": [
        {
          "output_type": "execute_result",
          "data": {
            "text/plain": [
              "-0.9970449172576831"
            ]
          },
          "metadata": {},
          "execution_count": 9
        }
      ]
    },
    {
      "cell_type": "code",
      "source": [
        "a = - results.intercept_[0]/results.coef_[0][1]\n",
        "a"
      ],
      "metadata": {
        "colab": {
          "base_uri": "https://localhost:8080/"
        },
        "id": "CTPuo6SYs1Kw",
        "outputId": "8256acbe-9e20-4542-aed4-2762963c4c3b"
      },
      "execution_count": 10,
      "outputs": [
        {
          "output_type": "execute_result",
          "data": {
            "text/plain": [
              "9.989164696611505"
            ]
          },
          "metadata": {},
          "execution_count": 10
        }
      ]
    },
    {
      "cell_type": "code",
      "source": [
        "x_recta = [i for i in range(13)]\n",
        "x_recta"
      ],
      "metadata": {
        "colab": {
          "base_uri": "https://localhost:8080/"
        },
        "id": "-GmUary9s86b",
        "outputId": "002f2ba3-c5ca-4cd4-b286-ad61ead53d3c"
      },
      "execution_count": 11,
      "outputs": [
        {
          "output_type": "execute_result",
          "data": {
            "text/plain": [
              "[0, 1, 2, 3, 4, 5, 6, 7, 8, 9, 10, 11, 12]"
            ]
          },
          "metadata": {},
          "execution_count": 11
        }
      ]
    },
    {
      "cell_type": "code",
      "source": [
        "y_recta=b*np.array(x_recta)+a\n",
        "y_recta"
      ],
      "metadata": {
        "colab": {
          "base_uri": "https://localhost:8080/"
        },
        "id": "1sT0EFwotKGW",
        "outputId": "3e483b64-fc76-4c5c-a339-a604ffcce5af"
      },
      "execution_count": 12,
      "outputs": [
        {
          "output_type": "execute_result",
          "data": {
            "text/plain": [
              "array([ 9.9891647 ,  8.99211978,  7.99507486,  6.99802994,  6.00098503,\n",
              "        5.00394011,  4.00689519,  3.00985028,  2.01280536,  1.01576044,\n",
              "        0.01871552, -0.97832939, -1.97537431])"
            ]
          },
          "metadata": {},
          "execution_count": 12
        }
      ]
    },
    {
      "cell_type": "code",
      "source": [
        "plt.plot(x_recta, y_recta)\n",
        "plt.scatter(x_coord, y_coord, c=y)"
      ],
      "metadata": {
        "colab": {
          "base_uri": "https://localhost:8080/",
          "height": 448
        },
        "id": "4ZWvidF2tS5T",
        "outputId": "0522138f-fe78-44df-8bd1-d0e1d36ce5e6"
      },
      "execution_count": 14,
      "outputs": [
        {
          "output_type": "execute_result",
          "data": {
            "text/plain": [
              "<matplotlib.collections.PathCollection at 0x7ff1ddcd58a0>"
            ]
          },
          "metadata": {},
          "execution_count": 14
        },
        {
          "output_type": "display_data",
          "data": {
            "text/plain": [
              "<Figure size 640x480 with 1 Axes>"
            ],
            "image/png": "[encoded data removed]"
          },
          "metadata": {}
        }
      ]
    },
    {
      "cell_type": "code",
      "source": [],
      "metadata": {
        "id": "vXzO8rUmtYZn"
      },
      "execution_count": null,
      "outputs": []
    }
  ]
}
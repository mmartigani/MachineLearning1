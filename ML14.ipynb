{
  "nbformat": 4,
  "nbformat_minor": 0,
  "metadata": {
    "colab": {
      "provenance": [],
      "authorship_tag": "ABX9TyNvED2zJrUX/406Y+0Ut2D7",
      "include_colab_link": true
    },
    "kernelspec": {
      "name": "python3",
      "display_name": "Python 3"
    },
    "language_info": {
      "name": "python"
    }
  },
  "cells": [
    {
      "cell_type": "markdown",
      "metadata": {
        "id": "view-in-github",
        "colab_type": "text"
      },
      "source": [
        "<a href=\"https://colab.research.google.com/github/mmartigani/MachineLearning1/blob/main/ML14.ipynb\" target=\"_parent\"><img src=\"https://colab.research.google.com/assets/colab-badge.svg\" alt=\"Open In Colab\"/></a>"
      ]
    },
    {
      "cell_type": "code",
      "execution_count": 1,
      "metadata": {
        "id": "5CIj0kGBfeke"
      },
      "outputs": [],
      "source": [
        "# KNN = CLASIFICACION, REGRESION, APRENDIZAJE AUTOMATICO ,\n",
        "#K VECINOS MAS CERCANOS SIMILARES"
      ]
    },
    {
      "cell_type": "code",
      "source": [
        "#CALCULAR LA DISTANCIA EUCLIDEA"
      ],
      "metadata": {
        "id": "GoBjqE2Rhtj0"
      },
      "execution_count": 2,
      "outputs": []
    },
    {
      "cell_type": "code",
      "source": [
        "from sklearn.neighbors import DistanceMetric"
      ],
      "metadata": {
        "id": "6ty2Y1zohySV"
      },
      "execution_count": 3,
      "outputs": []
    },
    {
      "cell_type": "code",
      "source": [
        "dist=DistanceMetric.get_metric('euclidean')"
      ],
      "metadata": {
        "colab": {
          "base_uri": "https://localhost:8080/"
        },
        "id": "TuSlM7uph8my",
        "outputId": "d29c35a2-b6b8-4bc2-8dee-3426ddb2f0a8"
      },
      "execution_count": 4,
      "outputs": [
        {
          "output_type": "stream",
          "name": "stderr",
          "text": [
            "/usr/local/lib/python3.10/dist-packages/sklearn/neighbors/_distance_metric.py:10: FutureWarning: sklearn.neighbors.DistanceMetric has been moved to sklearn.metrics.DistanceMetric in 1.0. This import path will be removed in 1.3\n",
            "  warnings.warn(\n"
          ]
        }
      ]
    },
    {
      "cell_type": "code",
      "source": [
        "X=[[1,2],[6,7]]"
      ],
      "metadata": {
        "id": "IigK4QHEh8fc"
      },
      "execution_count": 5,
      "outputs": []
    },
    {
      "cell_type": "code",
      "source": [
        "dist.pairwise(X)"
      ],
      "metadata": {
        "colab": {
          "base_uri": "https://localhost:8080/"
        },
        "id": "f7x5r6abiMkP",
        "outputId": "7aa71b70-b81d-48cf-ff52-134b23ed2310"
      },
      "execution_count": 6,
      "outputs": [
        {
          "output_type": "execute_result",
          "data": {
            "text/plain": [
              "array([[0.        , 7.07106781],\n",
              "       [7.07106781, 0.        ]])"
            ]
          },
          "metadata": {},
          "execution_count": 6
        }
      ]
    },
    {
      "cell_type": "code",
      "source": [
        "#EN 3D\n",
        "X=[[4,2,3],[1,4,5]]"
      ],
      "metadata": {
        "id": "cRdf-TXSiQh4"
      },
      "execution_count": 7,
      "outputs": []
    },
    {
      "cell_type": "code",
      "source": [
        "dist.pairwise(X)"
      ],
      "metadata": {
        "colab": {
          "base_uri": "https://localhost:8080/"
        },
        "id": "pbHZIfj3ibGq",
        "outputId": "c97ad8a5-e563-4a49-bf15-d56fb99dc8bf"
      },
      "execution_count": 8,
      "outputs": [
        {
          "output_type": "execute_result",
          "data": {
            "text/plain": [
              "array([[0.        , 4.12310563],\n",
              "       [4.12310563, 0.        ]])"
            ]
          },
          "metadata": {},
          "execution_count": 8
        }
      ]
    }
  ]
}